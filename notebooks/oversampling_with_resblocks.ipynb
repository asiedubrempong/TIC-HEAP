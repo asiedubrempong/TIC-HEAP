{
 "cells": [
  {
   "cell_type": "markdown",
   "metadata": {},
   "source": [
    "# TIC-HEAP Cirta Particle Classification Challenge"
   ]
  },
  {
   "cell_type": "code",
   "execution_count": null,
   "metadata": {},
   "outputs": [],
   "source": [
    "import matplotlib.pyplot as plt\n",
    "import numpy as np\n",
    "import pickle as pkl\n",
    "from collections import Counter"
   ]
  },
  {
   "cell_type": "code",
   "execution_count": 2,
   "metadata": {},
   "outputs": [],
   "source": [
    "import torch, torchvision\n",
    "import torch.nn.functional as F\n",
    "from torch import nn, optim\n",
    "from torch.utils.data import TensorDataset, DataLoader\n"
   ]
  },
  {
   "cell_type": "code",
   "execution_count": 3,
   "metadata": {},
   "outputs": [
    {
     "data": {
      "text/plain": [
       "device(type='cuda', index=0)"
      ]
     },
     "execution_count": 3,
     "metadata": {},
     "output_type": "execute_result"
    }
   ],
   "source": [
    "device = torch.device('cuda:0' if torch.cuda.is_available() else 'cpu')\n",
    "device"
   ]
  },
  {
   "cell_type": "markdown",
   "metadata": {},
   "source": [
    "## Load and pre-process the oversampled data"
   ]
  },
  {
   "cell_type": "code",
   "execution_count": 4,
   "metadata": {},
   "outputs": [],
   "source": [
    "images_path = '../data/train/oversampled_images.pkl'\n",
    "labels_path = '../data/train/oversampled_labels.pkl'\n",
    "test_path = '../data/test/data_test_file.pkl'"
   ]
  },
  {
   "cell_type": "code",
   "execution_count": 5,
   "metadata": {},
   "outputs": [],
   "source": [
    "with open(images_path, 'rb') as f:\n",
    "    training_data = pkl.load(f)\n",
    "    \n",
    "with open(labels_path, 'rb') as f:\n",
    "    labels = pkl.load(f)"
   ]
  },
  {
   "cell_type": "code",
   "execution_count": 6,
   "metadata": {},
   "outputs": [],
   "source": [
    "images = np.reshape(training_data, (4530235, 10, 10))"
   ]
  },
  {
   "cell_type": "code",
   "execution_count": 7,
   "metadata": {},
   "outputs": [],
   "source": [
    "classes2name = {11: 'electron', 13: 'muon', 211: 'pion', 321: 'kaon', 2212: 'proton'}\n",
    "classes2int = {211:0, 321:1, 2212:2, 11:3, 13:4}"
   ]
  },
  {
   "cell_type": "code",
   "execution_count": 8,
   "metadata": {},
   "outputs": [],
   "source": [
    "def show_images(images, labels):\n",
    "    fig = plt.figure(figsize=(25, 4))\n",
    "    \n",
    "    for i in np.arange(20):\n",
    "        ax = fig.add_subplot(2, 10, i+1, xticks=[], yticks=[])\n",
    "        ax.imshow(images[i], cmap='gray')\n",
    "        ax.set_title(classes2name[labels[i]])"
   ]
  },
  {
   "cell_type": "code",
   "execution_count": 9,
   "metadata": {},
   "outputs": [
    {
     "data": {
      "image/png": "[encoded data removed]",
      "text/plain": [
       "<Figure size 1800x288 with 20 Axes>"
      ]
     },
     "metadata": {},
     "output_type": "display_data"
    }
   ],
   "source": [
    "show_images(images, labels)"
   ]
  },
  {
   "cell_type": "markdown",
   "metadata": {},
   "source": [
    "## Distribution of data"
   ]
  },
  {
   "cell_type": "code",
   "execution_count": 10,
   "metadata": {},
   "outputs": [
    {
     "data": {
      "text/plain": [
       "Counter({211: 906047, 321: 906047, 2212: 906047, 13: 906047, 11: 906047})"
      ]
     },
     "execution_count": 10,
     "metadata": {},
     "output_type": "execute_result"
    }
   ],
   "source": [
    "counts = Counter(labels)\n",
    "counts"
   ]
  },
  {
   "cell_type": "code",
   "execution_count": 11,
   "metadata": {},
   "outputs": [
    {
     "data": {
      "image/png": "[encoded data removed]",
      "text/plain": [
       "<Figure size 432x288 with 1 Axes>"
      ]
     },
     "metadata": {
      "needs_background": "light"
     },
     "output_type": "display_data"
    }
   ],
   "source": [
    "class_names = [classes2name[i] for i in list(counts.keys())]\n",
    "\n",
    "plt.bar(range(len(counts)), list(counts.values()), align='center')\n",
    "plt.xticks(range(len(counts)), class_names)\n",
    "plt.ylabel('Number of images')\n",
    "plt.title('Distribution of images in the training dataset')\n",
    "plt.show()"
   ]
  },
  {
   "cell_type": "markdown",
   "metadata": {},
   "source": [
    "**normalize the images**\n",
    "\n",
    "Mean subtraction removes the mean of the dataset form each data point. \n",
    "\n",
    "<!--Then we normalize by dividing each zero-centred dimension by its standard deviation. This makes convergence faster while training the network. -->"
   ]
  },
  {
   "cell_type": "code",
   "execution_count": 12,
   "metadata": {},
   "outputs": [
    {
     "data": {
      "text/plain": [
       "(12.0, 0.0)"
      ]
     },
     "execution_count": 12,
     "metadata": {},
     "output_type": "execute_result"
    }
   ],
   "source": [
    "max, min = np.max(images), np.min(images)\n",
    "max, min"
   ]
  },
  {
   "cell_type": "code",
   "execution_count": 13,
   "metadata": {},
   "outputs": [],
   "source": [
    "images_norm = (images - min) / (max - min)"
   ]
  },
  {
   "cell_type": "code",
   "execution_count": 14,
   "metadata": {},
   "outputs": [
    {
     "name": "stdout",
     "output_type": "stream",
     "text": [
      "After-> min value: 0.0  max value: 1.0\n"
     ]
    }
   ],
   "source": [
    "print(f'After-> min value: {np.min(images_norm)}  max value: {np.max(images_norm)}')"
   ]
  },
  {
   "cell_type": "markdown",
   "metadata": {},
   "source": [
    "## Create dataset and dataloaders"
   ]
  },
  {
   "cell_type": "markdown",
   "metadata": {},
   "source": [
    "Categorise labels"
   ]
  },
  {
   "cell_type": "code",
   "execution_count": 16,
   "metadata": {},
   "outputs": [],
   "source": [
    "new_labels = []\n",
    "\n",
    "for x in np.nditer(labels):\n",
    "    x = int(x)\n",
    "    new_labels.append(classes2int[x])"
   ]
  },
  {
   "cell_type": "markdown",
   "metadata": {},
   "source": [
    "Sanity check"
   ]
  },
  {
   "cell_type": "code",
   "execution_count": 17,
   "metadata": {},
   "outputs": [
    {
     "data": {
      "text/plain": [
       "[0, 0, 0, 1, 0, 0, 0, 2, 2, 2, 2, 0, 1, 0, 0, 2, 2, 0, 0, 1]"
      ]
     },
     "execution_count": 17,
     "metadata": {},
     "output_type": "execute_result"
    }
   ],
   "source": [
    "new_labels[:20]"
   ]
  },
  {
   "cell_type": "code",
   "execution_count": 18,
   "metadata": {},
   "outputs": [
    {
     "data": {
      "text/plain": [
       "array([ 211,  211,  211,  321,  211,  211,  211, 2212, 2212, 2212, 2212,\n",
       "        211,  321,  211,  211, 2212, 2212,  211,  211,  321])"
      ]
     },
     "execution_count": 18,
     "metadata": {},
     "output_type": "execute_result"
    }
   ],
   "source": [
    "labels[:20]"
   ]
  },
  {
   "cell_type": "code",
   "execution_count": 19,
   "metadata": {},
   "outputs": [],
   "source": [
    "new_labels = np.array(new_labels)"
   ]
  },
  {
   "cell_type": "code",
   "execution_count": 20,
   "metadata": {},
   "outputs": [],
   "source": [
    "train_images, train_labels = torch.from_numpy(images_norm), torch.from_numpy(new_labels.astype(np.int64))"
   ]
  },
  {
   "cell_type": "code",
   "execution_count": 21,
   "metadata": {},
   "outputs": [],
   "source": [
    "train_images = train_images[:, None, :, :] # insert empty dimension at the channels axis"
   ]
  },
  {
   "cell_type": "code",
   "execution_count": 22,
   "metadata": {},
   "outputs": [],
   "source": [
    "train_dataset = TensorDataset(train_images, train_labels)"
   ]
  },
  {
   "cell_type": "code",
   "execution_count": 23,
   "metadata": {},
   "outputs": [],
   "source": [
    "train_loader = DataLoader(train_dataset, batch_size=128, shuffle=True)"
   ]
  },
  {
   "cell_type": "markdown",
   "metadata": {},
   "source": [
    "## Model"
   ]
  },
  {
   "cell_type": "code",
   "execution_count": 24,
   "metadata": {},
   "outputs": [],
   "source": [
    "class ResBlock(nn.Module):\n",
    "    '''\n",
    "    Defines a residual network layer\n",
    "    '''\n",
    "    def __init__(self, n_channels):\n",
    "        super().__init__()\n",
    "        \n",
    "        # reflection padding is used instead of zero padding\n",
    "        # this makes makes sure the output is  still the same size \n",
    "        # as the input \n",
    "        layers = [    nn.ReflectionPad2d(1),\n",
    "                      nn.Conv2d(n_channels, n_channels, 3),\n",
    "                      nn.InstanceNorm2d(n_channels),\n",
    "                      nn.ReLU(inplace=True),\n",
    "                      nn.ReflectionPad2d(1),\n",
    "                      nn.Conv2d(n_channels, n_channels, 3),\n",
    "                      nn.InstanceNorm2d(n_channels)   ]\n",
    "        self.model = nn.Sequential(*layers)\n",
    "    \n",
    "    def forward(self, x):\n",
    "        out = self.model(x)\n",
    "        return x + out"
   ]
  },
  {
   "cell_type": "code",
   "execution_count": 25,
   "metadata": {},
   "outputs": [],
   "source": [
    "class Model(nn.Module):\n",
    "    def __init__(self, n_res_blocks):\n",
    "        super().__init__()\n",
    "        \n",
    "        conv_layers = []\n",
    "        fc_layers = []\n",
    "        \n",
    "        conv_layers += [nn.Conv2d(1, 32, 3, stride=2, padding=1),\n",
    "                  nn.BatchNorm2d(32),\n",
    "                  nn.ReLU(inplace=True)]\n",
    "        \n",
    "        # residual blocks\n",
    "        conv_layers += [ResBlock(32) for i in range(n_res_blocks)]\n",
    "        \n",
    "        conv_layers += [nn.Conv2d(32, 64, 3, stride=2, padding=1),\n",
    "                  nn.BatchNorm2d(64),\n",
    "                  nn.ReLU(inplace=True)]\n",
    "        \n",
    "        # add fully connected layer\n",
    "        fc_layers += [nn.Linear(64 * 3 * 3, 512),\n",
    "                  nn.ReLU(inplace=True)]\n",
    "        \n",
    "        fc_layers += [nn.Linear(512, 5),\n",
    "                  nn.LogSoftmax(dim=1)]\n",
    "                \n",
    "        #self.drop = nn.Dropout()\n",
    "        \n",
    "        self.conv_layers = nn.Sequential(*conv_layers)\n",
    "        self.fc_layers = nn.Sequential(*fc_layers)\n",
    "    \n",
    "    def forward(self, x):\n",
    "        out = self.conv_layers(x)\n",
    "        out = out.view(-1, 64 * 3 * 3)\n",
    "        out = self.fc_layers(out)\n",
    "        return out"
   ]
  },
  {
   "cell_type": "code",
   "execution_count": 26,
   "metadata": {},
   "outputs": [],
   "source": [
    "model = Model(7)\n",
    "model = model.to(device)"
   ]
  },
  {
   "cell_type": "markdown",
   "metadata": {},
   "source": [
    "## Loss function and optimizer"
   ]
  },
  {
   "cell_type": "code",
   "execution_count": 27,
   "metadata": {},
   "outputs": [],
   "source": [
    "criterion = nn.NLLLoss()"
   ]
  },
  {
   "cell_type": "code",
   "execution_count": 28,
   "metadata": {},
   "outputs": [],
   "source": [
    "optimizer = optim.AdamW(model.parameters(), lr=0.01)"
   ]
  },
  {
   "cell_type": "markdown",
   "metadata": {},
   "source": [
    "## Training loop"
   ]
  },
  {
   "cell_type": "code",
   "execution_count": 29,
   "metadata": {},
   "outputs": [],
   "source": [
    "n_epochs = 100\n",
    "training_losses = []"
   ]
  },
  {
   "cell_type": "code",
   "execution_count": null,
   "metadata": {},
   "outputs": [],
   "source": [
    "for epoch in range(1, n_epochs + 1):\n",
    "    running_train_loss = 0.0\n",
    "    train_acc = 0.0\n",
    "    \n",
    "    for images, labels in train_loader:\n",
    "        images, labels = images.to(device, dtype=torch.float), labels.to(device)\n",
    "        \n",
    "        # zero out the gradients of the optimizer\n",
    "        optimizer.zero_grad()\n",
    "        # forward pass\n",
    "        log_ps = model(images)\n",
    "        # find the loss\n",
    "        train_loss = criterion(log_ps, labels)\n",
    "        # backpropagate\n",
    "        train_loss.backward()\n",
    "        optimizer.step()\n",
    "        \n",
    "        running_train_loss += train_loss.item()\n",
    "        # find accuracy\n",
    "        probs = torch.exp(log_ps)\n",
    "        _, top_class = probs.topk(1, dim=1)\n",
    "        equals = top_class == labels.view(*top_class.shape)\n",
    "        train_acc += torch.mean(equals.type(torch.FloatTensor))\n",
    "        \n",
    "    else:\n",
    "        if epoch%5==0:\n",
    "            # print stats\n",
    "            print(f'Epoch: {epoch}/{n_epochs} | Training loss: {running_train_loss/len(train_loader):.3f} | '\n",
    "                  f'Accuracy: {train_acc/len(train_loader)*100:.3f}')"
   ]
  },
  {
   "cell_type": "markdown",
   "metadata": {},
   "source": [
    "## Evaluate model"
   ]
  },
  {
   "cell_type": "code",
   "execution_count": 35,
   "metadata": {},
   "outputs": [],
   "source": [
    "torch.save(model.state_dict(), '../data/model.pth')"
   ]
  },
  {
   "cell_type": "code",
   "execution_count": 34,
   "metadata": {},
   "outputs": [
    {
     "data": {
      "text/plain": [
       "<All keys matched successfully>"
      ]
     },
     "execution_count": 34,
     "metadata": {},
     "output_type": "execute_result"
    }
   ],
   "source": [
    "model.load_state_dict(torch.load('../data/model.pth'))"
   ]
  },
  {
   "cell_type": "code",
   "execution_count": 35,
   "metadata": {},
   "outputs": [],
   "source": [
    "with open(test_path, 'rb') as f:\n",
    "    test_data = pkl.load(f)"
   ]
  },
  {
   "cell_type": "code",
   "execution_count": 36,
   "metadata": {},
   "outputs": [],
   "source": [
    "test_ids = []\n",
    "test_images = []"
   ]
  },
  {
   "cell_type": "code",
   "execution_count": 37,
   "metadata": {},
   "outputs": [],
   "source": [
    "for i in range(len(test_data)):\n",
    "    a = test_data[i]\n",
    "    test_ids.append(a[0])\n",
    "    test_images.append(a[1])"
   ]
  },
  {
   "cell_type": "code",
   "execution_count": 38,
   "metadata": {},
   "outputs": [
    {
     "data": {
      "text/plain": [
       "(4195, 10, 10)"
      ]
     },
     "execution_count": 38,
     "metadata": {},
     "output_type": "execute_result"
    }
   ],
   "source": [
    "test_images = np.array(test_images)\n",
    "test_images.shape"
   ]
  },
  {
   "cell_type": "code",
   "execution_count": 43,
   "metadata": {},
   "outputs": [
    {
     "data": {
      "text/plain": [
       "(4195,)"
      ]
     },
     "execution_count": 43,
     "metadata": {},
     "output_type": "execute_result"
    }
   ],
   "source": [
    "test_ids = np.array(test_ids)\n",
    "test_ids.shape"
   ]
  },
  {
   "cell_type": "code",
   "execution_count": 39,
   "metadata": {},
   "outputs": [
    {
     "data": {
      "text/plain": [
       "(8.0, 0.0)"
      ]
     },
     "execution_count": 39,
     "metadata": {},
     "output_type": "execute_result"
    }
   ],
   "source": [
    "max, min = np.max(test_images), np.min(test_images)\n",
    "max, min"
   ]
  },
  {
   "cell_type": "code",
   "execution_count": 42,
   "metadata": {},
   "outputs": [
    {
     "name": "stdout",
     "output_type": "stream",
     "text": [
      "After-> min value: 0.0  max value: 1.0\n"
     ]
    }
   ],
   "source": [
    "test_images_norm = (test_images - min) / (max - min)\n",
    "print(f'After-> min value: {np.min(test_images_norm)}  max value: {np.max(test_images_norm)}')"
   ]
  },
  {
   "cell_type": "markdown",
   "metadata": {},
   "source": [
    "**Convert data to torch tensor**"
   ]
  },
  {
   "cell_type": "code",
   "execution_count": 44,
   "metadata": {},
   "outputs": [],
   "source": [
    "test_images_norm, test_ids = torch.from_numpy(test_images_norm), torch.from_numpy(test_ids.astype(np.int64))\n",
    "test_images_norm = test_images_norm[:, None, :, :] # insert empty dimension at the channels axis\n",
    "test_dataset = TensorDataset(test_images_norm, test_ids)\n",
    "test_loader = DataLoader(train_dataset, batch_size=4195, shuffle=False)"
   ]
  },
  {
   "cell_type": "code",
   "execution_count": 45,
   "metadata": {},
   "outputs": [],
   "source": [
    "test_iter = iter(test_loader)\n",
    "test_batch, ids = test_iter.next()"
   ]
  },
  {
   "cell_type": "code",
   "execution_count": 50,
   "metadata": {},
   "outputs": [],
   "source": [
    "test_batch, ids = test_batch.to(device, dtype=torch.float), ids.to(device)"
   ]
  },
  {
   "cell_type": "code",
   "execution_count": 51,
   "metadata": {},
   "outputs": [],
   "source": [
    "with torch.no_grad():\n",
    "    model.eval()\n",
    "    # forward pass\n",
    "    log_ps = model(test_batch)\n",
    "    \n",
    "    # calculate the accuracy\n",
    "    ps = torch.exp(log_ps) # get the actual probabilities\n",
    "    top_prob, top_class = ps.topk(5, dim=1) # get the predictions "
   ]
  },
  {
   "cell_type": "code",
   "execution_count": 52,
   "metadata": {},
   "outputs": [
    {
     "data": {
      "text/plain": [
       "tensor([[6.9119e-02, 1.2589e-02, 1.6185e-01, 3.5762e-02, 7.2068e-01],\n",
       "        [2.2197e-01, 1.7834e-01, 2.9849e-01, 1.7575e-01, 1.2545e-01],\n",
       "        [2.8891e-06, 9.9978e-01, 1.5168e-04, 6.6329e-05, 4.7347e-09],\n",
       "        ...,\n",
       "        [1.9236e-01, 2.0872e-01, 1.8307e-01, 2.4247e-01, 1.7339e-01],\n",
       "        [3.4548e-01, 9.0241e-03, 1.3318e-01, 4.9924e-01, 1.3076e-02],\n",
       "        [1.4549e-01, 3.6836e-02, 7.4563e-01, 5.8144e-02, 1.3901e-02]],\n",
       "       device='cuda:0')"
      ]
     },
     "execution_count": 52,
     "metadata": {},
     "output_type": "execute_result"
    }
   ],
   "source": [
    "ps"
   ]
  },
  {
   "cell_type": "code",
   "execution_count": null,
   "metadata": {},
   "outputs": [],
   "source": [
    "classes2name = {11: 'electron', 13: 'muon', 211: 'pion', 321: 'kaon', 2212: 'proton'}\n",
    "classes2int = {211:0, 321:1, 2212:2, 11:3, 13:4}\n",
    "# pion kaon proton electron muon"
   ]
  },
  {
   "cell_type": "markdown",
   "metadata": {},
   "source": [
    "**reorder columns of the array**"
   ]
  },
  {
   "cell_type": "code",
   "execution_count": 63,
   "metadata": {},
   "outputs": [],
   "source": [
    "ps_numpy = ps.cpu().numpy()"
   ]
  },
  {
   "cell_type": "code",
   "execution_count": 64,
   "metadata": {},
   "outputs": [],
   "source": [
    "permutation = [3, 4, 0, 1, 2]\n",
    "idx = np.empty_like(permutation)\n",
    "idx[permutation] = np.arange(len(permutation))\n",
    "pred = ps_numpy[:, idx]"
   ]
  },
  {
   "cell_type": "code",
   "execution_count": 65,
   "metadata": {},
   "outputs": [
    {
     "data": {
      "text/plain": [
       "(4195, 5)"
      ]
     },
     "execution_count": 65,
     "metadata": {},
     "output_type": "execute_result"
    }
   ],
   "source": [
    "pred.shape"
   ]
  },
  {
   "cell_type": "code",
   "execution_count": 67,
   "metadata": {},
   "outputs": [],
   "source": [
    "np.savetxt(\"../foo.csv\", pred, delimiter=\",\")"
   ]
  },
  {
   "cell_type": "code",
   "execution_count": null,
   "metadata": {},
   "outputs": [],
   "source": []
  }
 ],
 "metadata": {
  "kernelspec": {
   "display_name": "Python 3",
   "language": "python",
   "name": "python3"
  },
  "language_info": {
   "codemirror_mode": {
    "name": "ipython",
    "version": 3
   },
   "file_extension": ".py",
   "mimetype": "text/x-python",
   "name": "python",
   "nbconvert_exporter": "python",
   "pygments_lexer": "ipython3",
   "version": "3.7.4"
  }
 },
 "nbformat": 4,
 "nbformat_minor": 4
}
