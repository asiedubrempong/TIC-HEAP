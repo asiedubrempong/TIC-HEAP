{
 "cells": [
  {
   "cell_type": "markdown",
   "metadata": {},
   "source": [
    "# TIC-HEAP Cirta Particle Classification Challenge"
   ]
  },
  {
   "cell_type": "code",
   "execution_count": 1,
   "metadata": {},
   "outputs": [],
   "source": [
    "import matplotlib.pyplot as plt\n",
    "import numpy as np\n",
    "import pickle as pkl\n",
    "from collections import Counter"
   ]
  },
  {
   "cell_type": "code",
   "execution_count": 2,
   "metadata": {},
   "outputs": [],
   "source": [
    "import torch, torchvision\n",
    "import torch.nn.functional as F\n",
    "from torch import nn, optim\n",
    "from torch.utils.data import TensorDataset, DataLoader\n"
   ]
  },
  {
   "cell_type": "code",
   "execution_count": 3,
   "metadata": {},
   "outputs": [
    {
     "data": {
      "text/plain": [
       "device(type='cuda', index=0)"
      ]
     },
     "execution_count": 3,
     "metadata": {},
     "output_type": "execute_result"
    }
   ],
   "source": [
    "device = torch.device('cuda:0' if torch.cuda.is_available() else 'cpu')\n",
    "device"
   ]
  },
  {
   "cell_type": "markdown",
   "metadata": {},
   "source": [
    "## Load and pre-process the data"
   ]
  },
  {
   "cell_type": "code",
   "execution_count": 4,
   "metadata": {},
   "outputs": [],
   "source": [
    "train_path = '../data/train/combined.pkl'\n",
    "test_path = '../data/test/data_test_file.pkl'"
   ]
  },
  {
   "cell_type": "code",
   "execution_count": 5,
   "metadata": {},
   "outputs": [],
   "source": [
    "with open(train_path, 'rb') as f:\n",
    "    training_data = pkl.load(f)"
   ]
  },
  {
   "cell_type": "code",
   "execution_count": 6,
   "metadata": {},
   "outputs": [],
   "source": [
    "classes2name = {11: 'electron', 13: 'muon', 211: 'pion', 321: 'kaon', 2212: 'proton'}\n",
    "classes2int = {211:0, 321:1, 2212:2, 11:3, 13:4}"
   ]
  },
  {
   "cell_type": "code",
   "execution_count": 7,
   "metadata": {},
   "outputs": [],
   "source": [
    "def show_images(data):\n",
    "    fig = plt.figure(figsize=(25, 4))\n",
    "    \n",
    "    for i in np.arange(20):\n",
    "        ax = fig.add_subplot(2, 10, i+1, xticks=[], yticks=[])\n",
    "        ax.imshow(data[0][i], cmap='gray')\n",
    "        ax.set_title(classes2name[data[1][i]])"
   ]
  },
  {
   "cell_type": "code",
   "execution_count": 8,
   "metadata": {},
   "outputs": [
    {
     "data": {
      "image/png": "[encoded data removed]",
      "text/plain": [
       "<Figure size 1800x288 with 20 Axes>"
      ]
     },
     "metadata": {},
     "output_type": "display_data"
    }
   ],
   "source": [
    "show_images(training_data)"
   ]
  },
  {
   "cell_type": "markdown",
   "metadata": {},
   "source": [
    "## Distribution of data"
   ]
  },
  {
   "cell_type": "code",
   "execution_count": 9,
   "metadata": {},
   "outputs": [
    {
     "data": {
      "text/plain": [
       "Counter({211: 906047, 321: 154323, 2212: 111730, 13: 1237, 11: 3138})"
      ]
     },
     "execution_count": 9,
     "metadata": {},
     "output_type": "execute_result"
    }
   ],
   "source": [
    "counts = Counter(training_data[1])\n",
    "counts"
   ]
  },
  {
   "cell_type": "code",
   "execution_count": 10,
   "metadata": {},
   "outputs": [
    {
     "data": {
      "image/png": "[encoded data removed]",
      "text/plain": [
       "<Figure size 432x288 with 1 Axes>"
      ]
     },
     "metadata": {
      "needs_background": "light"
     },
     "output_type": "display_data"
    }
   ],
   "source": [
    "labels = [classes2name[i] for i in list(counts.keys())]\n",
    "\n",
    "plt.bar(range(len(counts)), list(counts.values()), align='center')\n",
    "plt.xticks(range(len(counts)), labels)\n",
    "plt.ylabel('Number of images')\n",
    "plt.title('Distribution of images in the training dataset')\n",
    "plt.show()"
   ]
  },
  {
   "cell_type": "markdown",
   "metadata": {},
   "source": [
    "# Undersample the classes with large number of images"
   ]
  },
  {
   "cell_type": "markdown",
   "metadata": {},
   "source": [
    "**separate the classes**"
   ]
  },
  {
   "cell_type": "code",
   "execution_count": 11,
   "metadata": {},
   "outputs": [],
   "source": [
    "pion, kaon, proton, muon, electron = [], [], [], [], []"
   ]
  },
  {
   "cell_type": "code",
   "execution_count": 12,
   "metadata": {},
   "outputs": [],
   "source": [
    "for i in range(training_data.shape[1]):\n",
    "    if training_data[1][i] == 211:\n",
    "        pion.append(training_data[0][i])\n",
    "    elif training_data[1][i] == 321:\n",
    "        kaon.append(training_data[0][i])\n",
    "    elif training_data[1][i] == 2212:\n",
    "        proton.append(training_data[0][i])\n",
    "    elif training_data[1][i] ==  13:\n",
    "        muon.append(training_data[0][i])\n",
    "    elif training_data[1][i] ==  11:\n",
    "        electron.append(training_data[0][i])"
   ]
  },
  {
   "cell_type": "markdown",
   "metadata": {},
   "source": [
    "**sanity check** \n",
    "Length of the individual list must be equal to the number of counts founds with the counter"
   ]
  },
  {
   "cell_type": "code",
   "execution_count": 13,
   "metadata": {},
   "outputs": [
    {
     "data": {
      "text/plain": [
       "(906047, 154323, 111730, 1237, 3138)"
      ]
     },
     "execution_count": 13,
     "metadata": {},
     "output_type": "execute_result"
    }
   ],
   "source": [
    "len(pion), len(kaon), len(proton), len(muon), len(electron)"
   ]
  },
  {
   "cell_type": "markdown",
   "metadata": {},
   "source": [
    "**shuffle the images and select 2000 imges from each class with more than 2000 images**"
   ]
  },
  {
   "cell_type": "code",
   "execution_count": 14,
   "metadata": {},
   "outputs": [],
   "source": [
    "pion = np.array(pion)\n",
    "kaon = np.array(kaon)\n",
    "proton = np.array(proton)\n",
    "muon = np.array(muon)\n",
    "electron = np.array(electron)"
   ]
  },
  {
   "cell_type": "markdown",
   "metadata": {},
   "source": [
    "shuffle the images in place"
   ]
  },
  {
   "cell_type": "code",
   "execution_count": 15,
   "metadata": {},
   "outputs": [],
   "source": [
    "np.random.shuffle(pion)\n",
    "np.random.shuffle(kaon)\n",
    "np.random.shuffle(proton)\n",
    "np.random.shuffle(muon)\n",
    "np.random.shuffle(electron)"
   ]
  },
  {
   "cell_type": "markdown",
   "metadata": {},
   "source": [
    "select subset of images"
   ]
  },
  {
   "cell_type": "code",
   "execution_count": 16,
   "metadata": {},
   "outputs": [],
   "source": [
    "pion_subset = pion[:2000]\n",
    "kaon_subset = kaon[:2000]\n",
    "proton_subset = proton[:2000]\n",
    "electron_subset = electron[:2000]"
   ]
  },
  {
   "cell_type": "markdown",
   "metadata": {},
   "source": [
    "combine the subsets"
   ]
  },
  {
   "cell_type": "code",
   "execution_count": 17,
   "metadata": {},
   "outputs": [],
   "source": [
    "args = (pion_subset, kaon_subset, proton_subset, electron_subset, muon)"
   ]
  },
  {
   "cell_type": "code",
   "execution_count": 18,
   "metadata": {},
   "outputs": [
    {
     "data": {
      "text/plain": [
       "(9237, 10, 10)"
      ]
     },
     "execution_count": 18,
     "metadata": {},
     "output_type": "execute_result"
    }
   ],
   "source": [
    "new_subset = np.concatenate(args)\n",
    "new_subset.shape"
   ]
  },
  {
   "cell_type": "code",
   "execution_count": 19,
   "metadata": {},
   "outputs": [],
   "source": [
    "labels = [0] * 2000 + [1] * 2000 + [2] * 2000 + [3] * 2000 + [4] * 1237"
   ]
  },
  {
   "cell_type": "code",
   "execution_count": 20,
   "metadata": {},
   "outputs": [],
   "source": [
    "labels = np.array(labels)"
   ]
  },
  {
   "cell_type": "markdown",
   "metadata": {},
   "source": [
    "**normalize the images**\n",
    "\n",
    "Mean subtraction removes the mean of the dataset form each data point. \n",
    "\n",
    "<!--Then we normalize by dividing each zero-centred dimension by its standard deviation. This makes convergence faster while training the network. -->"
   ]
  },
  {
   "cell_type": "code",
   "execution_count": 21,
   "metadata": {},
   "outputs": [
    {
     "data": {
      "text/plain": [
       "(9.0, 0.0)"
      ]
     },
     "execution_count": 21,
     "metadata": {},
     "output_type": "execute_result"
    }
   ],
   "source": [
    "max, min = np.max(new_subset), np.min(new_subset)\n",
    "max, min"
   ]
  },
  {
   "cell_type": "code",
   "execution_count": 22,
   "metadata": {},
   "outputs": [],
   "source": [
    "train_images = (new_subset - min) / (max - min)"
   ]
  },
  {
   "cell_type": "code",
   "execution_count": 23,
   "metadata": {},
   "outputs": [
    {
     "name": "stdout",
     "output_type": "stream",
     "text": [
      "After-> min value: 0.0  max value: 1.0\n"
     ]
    }
   ],
   "source": [
    "print(f'After-> min value: {np.min(train_images)}  max value: {np.max(train_images)}')"
   ]
  },
  {
   "cell_type": "markdown",
   "metadata": {},
   "source": [
    "## Create dataset and dataloaders"
   ]
  },
  {
   "cell_type": "code",
   "execution_count": 24,
   "metadata": {},
   "outputs": [],
   "source": [
    "train_images, train_labels = torch.from_numpy(train_images), torch.from_numpy(labels.astype(np.int64))"
   ]
  },
  {
   "cell_type": "code",
   "execution_count": 25,
   "metadata": {},
   "outputs": [],
   "source": [
    "train_images = train_images[:, None, :, :] # insert empty dimension at the channels axis"
   ]
  },
  {
   "cell_type": "code",
   "execution_count": 26,
   "metadata": {},
   "outputs": [],
   "source": [
    "train_dataset = TensorDataset(train_images, train_labels)"
   ]
  },
  {
   "cell_type": "code",
   "execution_count": 27,
   "metadata": {},
   "outputs": [],
   "source": [
    "train_loader = DataLoader(train_dataset, batch_size=128, shuffle=True)"
   ]
  },
  {
   "cell_type": "markdown",
   "metadata": {},
   "source": [
    "## Model"
   ]
  },
  {
   "cell_type": "code",
   "execution_count": 28,
   "metadata": {},
   "outputs": [],
   "source": [
    "class ResBlock(nn.Module):\n",
    "    '''\n",
    "    Defines a residual network layer\n",
    "    '''\n",
    "    def __init__(self, n_channels):\n",
    "        super().__init__()\n",
    "        \n",
    "        # reflection padding is used instead of zero padding\n",
    "        # this makes makes sure the output is  still the same size \n",
    "        # as the input \n",
    "        layers = [    nn.ReflectionPad2d(1),\n",
    "                      nn.Conv2d(n_channels, n_channels, 3),\n",
    "                      nn.InstanceNorm2d(n_channels),\n",
    "                      nn.ReLU(inplace=True),\n",
    "                      nn.ReflectionPad2d(1),\n",
    "                      nn.Conv2d(n_channels, n_channels, 3),\n",
    "                      nn.InstanceNorm2d(n_channels)   ]\n",
    "        self.model = nn.Sequential(*layers)\n",
    "    \n",
    "    def forward(self, x):\n",
    "        out = self.model(x)\n",
    "        return x + out"
   ]
  },
  {
   "cell_type": "code",
   "execution_count": 29,
   "metadata": {},
   "outputs": [],
   "source": [
    "class Model(nn.Module):\n",
    "    def __init__(self, n_res_blocks):\n",
    "        super().__init__()\n",
    "        \n",
    "        conv_layers = []\n",
    "        fc_layers = []\n",
    "        \n",
    "        conv_layers += [nn.Conv2d(1, 32, 3, stride=2, padding=1),\n",
    "                  nn.BatchNorm2d(32),\n",
    "                  nn.ReLU(inplace=True)]\n",
    "        \n",
    "        # residual blocks\n",
    "        conv_layers += [ResBlock(32) for i in range(n_res_blocks)]\n",
    "        \n",
    "        conv_layers += [nn.Conv2d(32, 64, 3, stride=2, padding=1),\n",
    "                  nn.BatchNorm2d(64),\n",
    "                  nn.ReLU(inplace=True)]\n",
    "        \n",
    "        # add fully connected layer\n",
    "        fc_layers += [nn.Linear(64 * 3 * 3, 512),\n",
    "                  nn.ReLU(inplace=True)]\n",
    "        \n",
    "        fc_layers += [nn.Linear(512, 5),\n",
    "                  nn.LogSoftmax(dim=1)]\n",
    "                \n",
    "        #self.drop = nn.Dropout()\n",
    "        \n",
    "        self.conv_layers = nn.Sequential(*conv_layers)\n",
    "        self.fc_layers = nn.Sequential(*fc_layers)\n",
    "    \n",
    "    def forward(self, x):\n",
    "        out = self.conv_layers(x)\n",
    "        out = out.view(-1, 64 * 3 * 3)\n",
    "        out = self.fc_layers(out)\n",
    "        return out"
   ]
  },
  {
   "cell_type": "code",
   "execution_count": 30,
   "metadata": {},
   "outputs": [],
   "source": [
    "model = Model(18)\n",
    "model = model.to(device)"
   ]
  },
  {
   "cell_type": "markdown",
   "metadata": {},
   "source": [
    "## Loss function and optimizer"
   ]
  },
  {
   "cell_type": "code",
   "execution_count": 31,
   "metadata": {},
   "outputs": [],
   "source": [
    "criterion = nn.NLLLoss()"
   ]
  },
  {
   "cell_type": "code",
   "execution_count": 32,
   "metadata": {},
   "outputs": [],
   "source": [
    "optimizer = optim.AdamW(model.parameters(), lr=0.01)"
   ]
  },
  {
   "cell_type": "markdown",
   "metadata": {},
   "source": [
    "## Training loop"
   ]
  },
  {
   "cell_type": "code",
   "execution_count": 33,
   "metadata": {},
   "outputs": [],
   "source": [
    "n_epochs = 1000\n",
    "training_losses = []"
   ]
  },
  {
   "cell_type": "code",
   "execution_count": 34,
   "metadata": {},
   "outputs": [
    {
     "name": "stdout",
     "output_type": "stream",
     "text": [
      "Epoch: 10/1000 | Training loss: 1.572 | Accuracy: 25.112\n",
      "Epoch: 20/1000 | Training loss: 1.569 | Accuracy: 24.914\n",
      "Epoch: 30/1000 | Training loss: 1.563 | Accuracy: 24.763\n",
      "Epoch: 40/1000 | Training loss: 1.550 | Accuracy: 26.329\n",
      "Epoch: 50/1000 | Training loss: 1.540 | Accuracy: 26.837\n",
      "Epoch: 60/1000 | Training loss: 1.530 | Accuracy: 27.308\n",
      "Epoch: 70/1000 | Training loss: 1.518 | Accuracy: 28.055\n",
      "Epoch: 80/1000 | Training loss: 1.506 | Accuracy: 28.871\n",
      "Epoch: 90/1000 | Training loss: 1.493 | Accuracy: 29.600\n",
      "Epoch: 100/1000 | Training loss: 1.486 | Accuracy: 29.822\n",
      "Epoch: 110/1000 | Training loss: 1.483 | Accuracy: 29.733\n",
      "Epoch: 120/1000 | Training loss: 1.476 | Accuracy: 30.475\n",
      "Epoch: 130/1000 | Training loss: 1.465 | Accuracy: 31.549\n",
      "Epoch: 140/1000 | Training loss: 1.439 | Accuracy: 31.607\n",
      "Epoch: 150/1000 | Training loss: 1.432 | Accuracy: 31.826\n",
      "Epoch: 160/1000 | Training loss: 1.434 | Accuracy: 31.533\n",
      "Epoch: 170/1000 | Training loss: 1.407 | Accuracy: 32.742\n",
      "Epoch: 180/1000 | Training loss: 1.385 | Accuracy: 34.532\n",
      "Epoch: 190/1000 | Training loss: 1.365 | Accuracy: 35.420\n",
      "Epoch: 200/1000 | Training loss: 1.357 | Accuracy: 35.714\n",
      "Epoch: 210/1000 | Training loss: 1.352 | Accuracy: 35.795\n",
      "Epoch: 220/1000 | Training loss: 1.325 | Accuracy: 37.625\n",
      "Epoch: 230/1000 | Training loss: 1.317 | Accuracy: 38.881\n",
      "Epoch: 240/1000 | Training loss: 1.294 | Accuracy: 39.381\n",
      "Epoch: 250/1000 | Training loss: 1.267 | Accuracy: 40.952\n",
      "Epoch: 260/1000 | Training loss: 1.253 | Accuracy: 41.416\n",
      "Epoch: 270/1000 | Training loss: 1.232 | Accuracy: 42.494\n",
      "Epoch: 280/1000 | Training loss: 1.225 | Accuracy: 43.229\n",
      "Epoch: 290/1000 | Training loss: 1.201 | Accuracy: 44.252\n",
      "Epoch: 300/1000 | Training loss: 1.175 | Accuracy: 45.557\n",
      "Epoch: 310/1000 | Training loss: 1.167 | Accuracy: 45.723\n",
      "Epoch: 320/1000 | Training loss: 1.149 | Accuracy: 46.071\n",
      "Epoch: 330/1000 | Training loss: 1.130 | Accuracy: 47.990\n",
      "Epoch: 340/1000 | Training loss: 1.142 | Accuracy: 47.304\n",
      "Epoch: 350/1000 | Training loss: 1.119 | Accuracy: 48.379\n",
      "Epoch: 360/1000 | Training loss: 1.093 | Accuracy: 49.713\n",
      "Epoch: 370/1000 | Training loss: 1.076 | Accuracy: 50.568\n",
      "Epoch: 380/1000 | Training loss: 1.050 | Accuracy: 51.514\n",
      "Epoch: 390/1000 | Training loss: 1.071 | Accuracy: 51.354\n",
      "Epoch: 400/1000 | Training loss: 1.057 | Accuracy: 51.937\n",
      "Epoch: 410/1000 | Training loss: 1.080 | Accuracy: 51.166\n",
      "Epoch: 420/1000 | Training loss: 1.025 | Accuracy: 53.575\n",
      "Epoch: 430/1000 | Training loss: 1.018 | Accuracy: 53.424\n",
      "Epoch: 440/1000 | Training loss: 1.033 | Accuracy: 53.737\n",
      "Epoch: 450/1000 | Training loss: 0.989 | Accuracy: 55.014\n",
      "Epoch: 460/1000 | Training loss: 1.006 | Accuracy: 54.794\n",
      "Epoch: 470/1000 | Training loss: 1.011 | Accuracy: 54.611\n",
      "Epoch: 480/1000 | Training loss: 0.963 | Accuracy: 56.216\n",
      "Epoch: 490/1000 | Training loss: 0.958 | Accuracy: 56.517\n",
      "Epoch: 500/1000 | Training loss: 0.954 | Accuracy: 57.521\n",
      "Epoch: 510/1000 | Training loss: 0.940 | Accuracy: 57.493\n",
      "Epoch: 520/1000 | Training loss: 0.945 | Accuracy: 57.554\n",
      "Epoch: 530/1000 | Training loss: 0.980 | Accuracy: 56.861\n",
      "Epoch: 540/1000 | Training loss: 0.939 | Accuracy: 57.655\n",
      "Epoch: 550/1000 | Training loss: 0.910 | Accuracy: 58.831\n",
      "Epoch: 560/1000 | Training loss: 0.902 | Accuracy: 59.384\n",
      "Epoch: 570/1000 | Training loss: 0.944 | Accuracy: 58.008\n",
      "Epoch: 580/1000 | Training loss: 0.935 | Accuracy: 58.090\n",
      "Epoch: 590/1000 | Training loss: 0.893 | Accuracy: 59.891\n",
      "Epoch: 600/1000 | Training loss: 0.893 | Accuracy: 60.341\n",
      "Epoch: 610/1000 | Training loss: 0.910 | Accuracy: 59.517\n",
      "Epoch: 620/1000 | Training loss: 0.897 | Accuracy: 59.460\n",
      "Epoch: 630/1000 | Training loss: 0.883 | Accuracy: 60.631\n",
      "Epoch: 640/1000 | Training loss: 0.923 | Accuracy: 58.625\n",
      "Epoch: 650/1000 | Training loss: 0.879 | Accuracy: 60.471\n",
      "Epoch: 660/1000 | Training loss: 0.869 | Accuracy: 60.788\n",
      "Epoch: 670/1000 | Training loss: 0.888 | Accuracy: 59.975\n",
      "Epoch: 680/1000 | Training loss: 0.895 | Accuracy: 59.550\n",
      "Epoch: 690/1000 | Training loss: 0.844 | Accuracy: 61.699\n",
      "Epoch: 700/1000 | Training loss: 0.837 | Accuracy: 62.361\n",
      "Epoch: 710/1000 | Training loss: 0.855 | Accuracy: 60.958\n",
      "Epoch: 720/1000 | Training loss: 0.859 | Accuracy: 61.592\n",
      "Epoch: 730/1000 | Training loss: 0.861 | Accuracy: 61.385\n",
      "Epoch: 740/1000 | Training loss: 0.866 | Accuracy: 61.390\n",
      "Epoch: 750/1000 | Training loss: 0.809 | Accuracy: 63.078\n",
      "Epoch: 760/1000 | Training loss: 0.845 | Accuracy: 61.782\n",
      "Epoch: 770/1000 | Training loss: 0.857 | Accuracy: 61.538\n",
      "Epoch: 780/1000 | Training loss: 0.898 | Accuracy: 60.158\n",
      "Epoch: 790/1000 | Training loss: 0.810 | Accuracy: 62.996\n",
      "Epoch: 800/1000 | Training loss: 0.834 | Accuracy: 62.192\n",
      "Epoch: 810/1000 | Training loss: 0.845 | Accuracy: 62.100\n",
      "Epoch: 820/1000 | Training loss: 0.808 | Accuracy: 62.837\n",
      "Epoch: 830/1000 | Training loss: 0.823 | Accuracy: 62.902\n",
      "Epoch: 840/1000 | Training loss: 0.807 | Accuracy: 63.546\n",
      "Epoch: 850/1000 | Training loss: 0.832 | Accuracy: 61.985\n",
      "Epoch: 860/1000 | Training loss: 0.823 | Accuracy: 62.736\n",
      "Epoch: 870/1000 | Training loss: 0.828 | Accuracy: 62.649\n",
      "Epoch: 880/1000 | Training loss: 0.860 | Accuracy: 61.579\n",
      "Epoch: 890/1000 | Training loss: 0.815 | Accuracy: 63.084\n",
      "Epoch: 900/1000 | Training loss: 0.836 | Accuracy: 62.611\n",
      "Epoch: 910/1000 | Training loss: 0.843 | Accuracy: 61.894\n",
      "Epoch: 920/1000 | Training loss: 0.800 | Accuracy: 63.338\n",
      "Epoch: 930/1000 | Training loss: 0.838 | Accuracy: 61.472\n",
      "Epoch: 940/1000 | Training loss: 0.809 | Accuracy: 63.297\n",
      "Epoch: 950/1000 | Training loss: 0.784 | Accuracy: 63.573\n",
      "Epoch: 960/1000 | Training loss: 0.833 | Accuracy: 62.277\n",
      "Epoch: 970/1000 | Training loss: 0.799 | Accuracy: 63.015\n",
      "Epoch: 980/1000 | Training loss: 0.867 | Accuracy: 61.058\n",
      "Epoch: 990/1000 | Training loss: 0.810 | Accuracy: 63.585\n",
      "Epoch: 1000/1000 | Training loss: 0.795 | Accuracy: 63.134\n"
     ]
    }
   ],
   "source": [
    "for epoch in range(1, n_epochs + 1):\n",
    "    running_train_loss = 0.0\n",
    "    train_acc = 0.0\n",
    "    \n",
    "    for images, labels in train_loader:\n",
    "        images, labels = images.to(device, dtype=torch.float), labels.to(device)\n",
    "        \n",
    "        # zero out the gradients of the optimizer\n",
    "        optimizer.zero_grad()\n",
    "        # forward pass\n",
    "        log_ps = model(images)\n",
    "        # find the loss\n",
    "        train_loss = criterion(log_ps, labels)\n",
    "        # backpropagate\n",
    "        train_loss.backward()\n",
    "        optimizer.step()\n",
    "        \n",
    "        running_train_loss += train_loss.item()\n",
    "        # find accuracy\n",
    "        probs = torch.exp(log_ps)\n",
    "        _, top_class = probs.topk(1, dim=1)\n",
    "        equals = top_class == labels.view(*top_class.shape)\n",
    "        train_acc += torch.mean(equals.type(torch.FloatTensor))\n",
    "        \n",
    "    else:\n",
    "        if epoch%10==0:\n",
    "            # print stats\n",
    "            print(f'Epoch: {epoch}/{n_epochs} | Training loss: {running_train_loss/len(train_loader):.3f} | '\n",
    "                  f'Accuracy: {train_acc/len(train_loader)*100:.3f}')"
   ]
  },
  {
   "cell_type": "markdown",
   "metadata": {},
   "source": [
    "## Evaluate model"
   ]
  },
  {
   "cell_type": "code",
   "execution_count": 35,
   "metadata": {},
   "outputs": [],
   "source": [
    "torch.save(model.state_dict(), '../data/model.pth')"
   ]
  },
  {
   "cell_type": "code",
   "execution_count": 34,
   "metadata": {},
   "outputs": [
    {
     "data": {
      "text/plain": [
       "<All keys matched successfully>"
      ]
     },
     "execution_count": 34,
     "metadata": {},
     "output_type": "execute_result"
    }
   ],
   "source": [
    "model.load_state_dict(torch.load('../data/model.pth'))"
   ]
  },
  {
   "cell_type": "code",
   "execution_count": 35,
   "metadata": {},
   "outputs": [],
   "source": [
    "with open(test_path, 'rb') as f:\n",
    "    test_data = pkl.load(f)"
   ]
  },
  {
   "cell_type": "code",
   "execution_count": 36,
   "metadata": {},
   "outputs": [],
   "source": [
    "test_ids = []\n",
    "test_images = []"
   ]
  },
  {
   "cell_type": "code",
   "execution_count": 37,
   "metadata": {},
   "outputs": [],
   "source": [
    "for i in range(len(test_data)):\n",
    "    a = test_data[i]\n",
    "    test_ids.append(a[0])\n",
    "    test_images.append(a[1])"
   ]
  },
  {
   "cell_type": "code",
   "execution_count": 38,
   "metadata": {},
   "outputs": [
    {
     "data": {
      "text/plain": [
       "(4195, 10, 10)"
      ]
     },
     "execution_count": 38,
     "metadata": {},
     "output_type": "execute_result"
    }
   ],
   "source": [
    "test_images = np.array(test_images)\n",
    "test_images.shape"
   ]
  },
  {
   "cell_type": "code",
   "execution_count": 43,
   "metadata": {},
   "outputs": [
    {
     "data": {
      "text/plain": [
       "(4195,)"
      ]
     },
     "execution_count": 43,
     "metadata": {},
     "output_type": "execute_result"
    }
   ],
   "source": [
    "test_ids = np.array(test_ids)\n",
    "test_ids.shape"
   ]
  },
  {
   "cell_type": "code",
   "execution_count": 39,
   "metadata": {},
   "outputs": [
    {
     "data": {
      "text/plain": [
       "(8.0, 0.0)"
      ]
     },
     "execution_count": 39,
     "metadata": {},
     "output_type": "execute_result"
    }
   ],
   "source": [
    "max, min = np.max(test_images), np.min(test_images)\n",
    "max, min"
   ]
  },
  {
   "cell_type": "code",
   "execution_count": 42,
   "metadata": {},
   "outputs": [
    {
     "name": "stdout",
     "output_type": "stream",
     "text": [
      "After-> min value: 0.0  max value: 1.0\n"
     ]
    }
   ],
   "source": [
    "test_images_norm = (test_images - min) / (max - min)\n",
    "print(f'After-> min value: {np.min(test_images_norm)}  max value: {np.max(test_images_norm)}')"
   ]
  },
  {
   "cell_type": "markdown",
   "metadata": {},
   "source": [
    "**Convert data to torch tensor**"
   ]
  },
  {
   "cell_type": "code",
   "execution_count": 44,
   "metadata": {},
   "outputs": [],
   "source": [
    "test_images_norm, test_ids = torch.from_numpy(test_images_norm), torch.from_numpy(test_ids.astype(np.int64))\n",
    "test_images_norm = test_images_norm[:, None, :, :] # insert empty dimension at the channels axis\n",
    "test_dataset = TensorDataset(test_images_norm, test_ids)\n",
    "test_loader = DataLoader(train_dataset, batch_size=4195, shuffle=False)"
   ]
  },
  {
   "cell_type": "code",
   "execution_count": 45,
   "metadata": {},
   "outputs": [],
   "source": [
    "test_iter = iter(test_loader)\n",
    "test_batch, ids = test_iter.next()"
   ]
  },
  {
   "cell_type": "code",
   "execution_count": 50,
   "metadata": {},
   "outputs": [],
   "source": [
    "test_batch, ids = test_batch.to(device, dtype=torch.float), ids.to(device)"
   ]
  },
  {
   "cell_type": "code",
   "execution_count": 51,
   "metadata": {},
   "outputs": [],
   "source": [
    "with torch.no_grad():\n",
    "    model.eval()\n",
    "    # forward pass\n",
    "    log_ps = model(test_batch)\n",
    "    \n",
    "    # calculate the accuracy\n",
    "    ps = torch.exp(log_ps) # get the actual probabilities\n",
    "    top_prob, top_class = ps.topk(5, dim=1) # get the predictions "
   ]
  },
  {
   "cell_type": "code",
   "execution_count": 52,
   "metadata": {},
   "outputs": [
    {
     "data": {
      "text/plain": [
       "tensor([[6.9119e-02, 1.2589e-02, 1.6185e-01, 3.5762e-02, 7.2068e-01],\n",
       "        [2.2197e-01, 1.7834e-01, 2.9849e-01, 1.7575e-01, 1.2545e-01],\n",
       "        [2.8891e-06, 9.9978e-01, 1.5168e-04, 6.6329e-05, 4.7347e-09],\n",
       "        ...,\n",
       "        [1.9236e-01, 2.0872e-01, 1.8307e-01, 2.4247e-01, 1.7339e-01],\n",
       "        [3.4548e-01, 9.0241e-03, 1.3318e-01, 4.9924e-01, 1.3076e-02],\n",
       "        [1.4549e-01, 3.6836e-02, 7.4563e-01, 5.8144e-02, 1.3901e-02]],\n",
       "       device='cuda:0')"
      ]
     },
     "execution_count": 52,
     "metadata": {},
     "output_type": "execute_result"
    }
   ],
   "source": [
    "ps"
   ]
  },
  {
   "cell_type": "code",
   "execution_count": null,
   "metadata": {},
   "outputs": [],
   "source": [
    "classes2name = {11: 'electron', 13: 'muon', 211: 'pion', 321: 'kaon', 2212: 'proton'}\n",
    "classes2int = {211:0, 321:1, 2212:2, 11:3, 13:4}\n",
    "# pion kaon proton electron muon"
   ]
  },
  {
   "cell_type": "markdown",
   "metadata": {},
   "source": [
    "**reorder columns of the array**"
   ]
  },
  {
   "cell_type": "code",
   "execution_count": 63,
   "metadata": {},
   "outputs": [],
   "source": [
    "ps_numpy = ps.cpu().numpy()"
   ]
  },
  {
   "cell_type": "code",
   "execution_count": 64,
   "metadata": {},
   "outputs": [],
   "source": [
    "permutation = [3, 4, 0, 1, 2]\n",
    "idx = np.empty_like(permutation)\n",
    "idx[permutation] = np.arange(len(permutation))\n",
    "pred = ps_numpy[:, idx]"
   ]
  },
  {
   "cell_type": "code",
   "execution_count": 65,
   "metadata": {},
   "outputs": [
    {
     "data": {
      "text/plain": [
       "(4195, 5)"
      ]
     },
     "execution_count": 65,
     "metadata": {},
     "output_type": "execute_result"
    }
   ],
   "source": [
    "pred.shape"
   ]
  },
  {
   "cell_type": "code",
   "execution_count": 67,
   "metadata": {},
   "outputs": [],
   "source": [
    "np.savetxt(\"../foo.csv\", pred, delimiter=\",\")"
   ]
  },
  {
   "cell_type": "code",
   "execution_count": null,
   "metadata": {},
   "outputs": [],
   "source": []
  }
 ],
 "metadata": {
  "kernelspec": {
   "display_name": "Python 3",
   "language": "python",
   "name": "python3"
  },
  "language_info": {
   "codemirror_mode": {
    "name": "ipython",
    "version": 3
   },
   "file_extension": ".py",
   "mimetype": "text/x-python",
   "name": "python",
   "nbconvert_exporter": "python",
   "pygments_lexer": "ipython3",
   "version": "3.7.4"
  }
 },
 "nbformat": 4,
 "nbformat_minor": 4
}
