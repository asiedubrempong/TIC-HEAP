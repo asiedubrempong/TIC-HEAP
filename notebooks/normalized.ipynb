{
 "cells": [
  {
   "cell_type": "markdown",
   "metadata": {},
   "source": [
    "# TIC-HEAP Cirta Particle Classification Challenge"
   ]
  },
  {
   "cell_type": "code",
   "execution_count": 1,
   "metadata": {},
   "outputs": [],
   "source": [
    "import matplotlib.pyplot as plt\n",
    "import numpy as np\n",
    "import pickle as pkl"
   ]
  },
  {
   "cell_type": "code",
   "execution_count": 2,
   "metadata": {},
   "outputs": [],
   "source": [
    "import torch, torchvision\n",
    "import torch.nn.functional as F\n",
    "from torch import nn, optim\n",
    "from torch.utils.data import TensorDataset, DataLoader\n"
   ]
  },
  {
   "cell_type": "code",
   "execution_count": 3,
   "metadata": {},
   "outputs": [
    {
     "data": {
      "text/plain": [
       "device(type='cuda', index=0)"
      ]
     },
     "execution_count": 3,
     "metadata": {},
     "output_type": "execute_result"
    }
   ],
   "source": [
    "device = torch.device('cuda:0' if torch.cuda.is_available() else 'cpu')\n",
    "device"
   ]
  },
  {
   "cell_type": "markdown",
   "metadata": {},
   "source": [
    "## Load and pre-process the data"
   ]
  },
  {
   "cell_type": "code",
   "execution_count": 4,
   "metadata": {},
   "outputs": [],
   "source": [
    "train_path = '../data/train/combined.pkl'\n",
    "test_path = '../data/test/data_test_file.pkl'"
   ]
  },
  {
   "cell_type": "code",
   "execution_count": 5,
   "metadata": {},
   "outputs": [],
   "source": [
    "with open(train_path, 'rb') as f:\n",
    "    training_data = pkl.load(f)"
   ]
  },
  {
   "cell_type": "code",
   "execution_count": 6,
   "metadata": {},
   "outputs": [],
   "source": [
    "classes2name = {11: 'electron', 13: 'muon', 211: 'pion', 321: 'kaon', 2212: 'proton'}\n",
    "classes2int = {11:0, 13:1, 211:2, 321:3, 2212:4}"
   ]
  },
  {
   "cell_type": "code",
   "execution_count": 7,
   "metadata": {},
   "outputs": [],
   "source": [
    "def show_images(data):\n",
    "    fig = plt.figure(figsize=(25, 4))\n",
    "    \n",
    "    for i in np.arange(20):\n",
    "        ax = fig.add_subplot(2, 10, i+1, xticks=[], yticks=[])\n",
    "        ax.imshow(data[0][i], cmap='gray')\n",
    "        ax.set_title(classes2name[data[1][i]])"
   ]
  },
  {
   "cell_type": "code",
   "execution_count": 8,
   "metadata": {},
   "outputs": [
    {
     "data": {
      "image/png": "[encoded data removed]",
      "text/plain": [
       "<Figure size 1800x288 with 20 Axes>"
      ]
     },
     "metadata": {},
     "output_type": "display_data"
    }
   ],
   "source": [
    "show_images(training_data)"
   ]
  },
  {
   "cell_type": "markdown",
   "metadata": {},
   "source": [
    "**separate images from labels**"
   ]
  },
  {
   "cell_type": "code",
   "execution_count": 9,
   "metadata": {},
   "outputs": [
    {
     "data": {
      "text/plain": [
       "(2, 1176475)"
      ]
     },
     "execution_count": 9,
     "metadata": {},
     "output_type": "execute_result"
    }
   ],
   "source": [
    "training_data.shape"
   ]
  },
  {
   "cell_type": "code",
   "execution_count": 10,
   "metadata": {},
   "outputs": [],
   "source": [
    "train_images = np.zeros((1176475, 10, 10))\n",
    "\n",
    "for i in range(1176475):\n",
    "    train_images[i,:] = training_data[0][i]"
   ]
  },
  {
   "cell_type": "code",
   "execution_count": 11,
   "metadata": {},
   "outputs": [],
   "source": [
    "train_labels = np.zeros((1176475))\n",
    "\n",
    "for i in range(1176475):\n",
    "    train_labels[i] = classes2int[training_data[1][i]]"
   ]
  },
  {
   "cell_type": "markdown",
   "metadata": {},
   "source": [
    "**normalize the images**\n",
    "\n",
    "Mean subtraction removes the mean of the dataset form each data point. \n",
    "\n",
    "<!--Then we normalize by dividing each zero-centred dimension by its standard deviation. This makes convergence faster while training the network. -->"
   ]
  },
  {
   "cell_type": "code",
   "execution_count": 12,
   "metadata": {},
   "outputs": [
    {
     "data": {
      "text/plain": [
       "(12.0, 0.0)"
      ]
     },
     "execution_count": 12,
     "metadata": {},
     "output_type": "execute_result"
    }
   ],
   "source": [
    "max, min = np.max(train_images), np.min(train_images)\n",
    "max, min"
   ]
  },
  {
   "cell_type": "code",
   "execution_count": 13,
   "metadata": {},
   "outputs": [],
   "source": [
    "train_images = (train_images - min) / (max - min)"
   ]
  },
  {
   "cell_type": "code",
   "execution_count": 14,
   "metadata": {},
   "outputs": [
    {
     "name": "stdout",
     "output_type": "stream",
     "text": [
      "After-> min value: 0.0  max value: 1.0\n"
     ]
    }
   ],
   "source": [
    "print(f'After-> min value: {np.min(train_images)}  max value: {np.max(train_images)}')"
   ]
  },
  {
   "cell_type": "markdown",
   "metadata": {},
   "source": [
    "## Create dataset and dataloaders"
   ]
  },
  {
   "cell_type": "code",
   "execution_count": 15,
   "metadata": {},
   "outputs": [],
   "source": [
    "train_images, train_labels = torch.from_numpy(train_images), torch.from_numpy(train_labels.astype(np.int64))"
   ]
  },
  {
   "cell_type": "code",
   "execution_count": 16,
   "metadata": {},
   "outputs": [],
   "source": [
    "train_images = train_images[:, None, :, :] # insert empty dimension at the channels axis"
   ]
  },
  {
   "cell_type": "code",
   "execution_count": 17,
   "metadata": {},
   "outputs": [],
   "source": [
    "train_dataset = TensorDataset(train_images, train_labels)"
   ]
  },
  {
   "cell_type": "code",
   "execution_count": 18,
   "metadata": {},
   "outputs": [],
   "source": [
    "train_loader = DataLoader(train_dataset, batch_size=128, shuffle=True)"
   ]
  },
  {
   "cell_type": "markdown",
   "metadata": {},
   "source": [
    "## Model"
   ]
  },
  {
   "cell_type": "code",
   "execution_count": 19,
   "metadata": {},
   "outputs": [],
   "source": [
    "class Model(nn.Module):\n",
    "    def __init__(self):\n",
    "        super().__init__()\n",
    "        \n",
    "        self.conv1 = nn.Conv2d(1, 32, 3, stride=2, padding=1)\n",
    "        self.bn1 = nn.BatchNorm2d(32)\n",
    "        self.fc1 = nn.Linear(32 * 5 * 5, 5)\n",
    "    \n",
    "    def forward(self, x):\n",
    "        out = torch.relu(self.bn1(self.conv1(x)))\n",
    "        #out = torch.relu(self.bn2(self.conv2(out)))\n",
    "        out = out.view(-1, 32 * 5 * 5)\n",
    "        out = torch.log_softmax(self.fc1(out), dim=1)\n",
    "        return out"
   ]
  },
  {
   "cell_type": "code",
   "execution_count": 20,
   "metadata": {},
   "outputs": [],
   "source": [
    "model = Model()\n",
    "model = model.to(device)"
   ]
  },
  {
   "cell_type": "markdown",
   "metadata": {},
   "source": [
    "## Loss function and optimizer"
   ]
  },
  {
   "cell_type": "code",
   "execution_count": 21,
   "metadata": {},
   "outputs": [],
   "source": [
    "criterion = nn.NLLLoss()"
   ]
  },
  {
   "cell_type": "code",
   "execution_count": 22,
   "metadata": {},
   "outputs": [],
   "source": [
    "optimizer = optim.AdamW(model.parameters(), lr=0.01)"
   ]
  },
  {
   "cell_type": "markdown",
   "metadata": {},
   "source": [
    "## Training loop"
   ]
  },
  {
   "cell_type": "code",
   "execution_count": 23,
   "metadata": {},
   "outputs": [],
   "source": [
    "n_epochs = 20\n",
    "training_losses = []"
   ]
  },
  {
   "cell_type": "code",
   "execution_count": 24,
   "metadata": {},
   "outputs": [
    {
     "name": "stdout",
     "output_type": "stream",
     "text": [
      "Epoch: 1/20 | Training loss: 0.715 | Accuracy: 77.002\n",
      "Epoch: 2/20 | Training loss: 0.713 | Accuracy: 77.014\n",
      "Epoch: 3/20 | Training loss: 0.713 | Accuracy: 77.013\n",
      "Epoch: 4/20 | Training loss: 0.713 | Accuracy: 77.014\n",
      "Epoch: 5/20 | Training loss: 0.713 | Accuracy: 77.014\n",
      "Epoch: 6/20 | Training loss: 0.713 | Accuracy: 77.013\n",
      "Epoch: 7/20 | Training loss: 0.713 | Accuracy: 77.014\n",
      "Epoch: 8/20 | Training loss: 0.713 | Accuracy: 77.013\n",
      "Epoch: 9/20 | Training loss: 0.713 | Accuracy: 77.013\n",
      "Epoch: 10/20 | Training loss: 0.714 | Accuracy: 77.014\n",
      "Epoch: 11/20 | Training loss: 0.714 | Accuracy: 77.014\n",
      "Epoch: 12/20 | Training loss: 0.714 | Accuracy: 77.013\n",
      "Epoch: 13/20 | Training loss: 0.714 | Accuracy: 77.014\n",
      "Epoch: 14/20 | Training loss: 0.714 | Accuracy: 77.013\n",
      "Epoch: 15/20 | Training loss: 0.714 | Accuracy: 77.014\n",
      "Epoch: 16/20 | Training loss: 0.714 | Accuracy: 77.014\n",
      "Epoch: 17/20 | Training loss: 0.714 | Accuracy: 77.015\n",
      "Epoch: 18/20 | Training loss: 0.714 | Accuracy: 77.013\n",
      "Epoch: 19/20 | Training loss: 0.714 | Accuracy: 77.013\n",
      "Epoch: 20/20 | Training loss: 0.714 | Accuracy: 77.014\n"
     ]
    }
   ],
   "source": [
    "for epoch in range(1, n_epochs + 1):\n",
    "    running_train_loss = 0.0\n",
    "    train_acc = 0.0\n",
    "    \n",
    "    for images, labels in train_loader:\n",
    "        images, labels = images.to(device, dtype=torch.float), labels.to(device)\n",
    "        \n",
    "        # zero out the gradients of the optimizer\n",
    "        optimizer.zero_grad()\n",
    "        # forward pass\n",
    "        log_ps = model(images)\n",
    "        # find the loss\n",
    "        train_loss = criterion(log_ps, labels)\n",
    "        # backpropagate\n",
    "        train_loss.backward()\n",
    "        optimizer.step()\n",
    "        \n",
    "        running_train_loss += train_loss.item()\n",
    "        # find accuracy\n",
    "        probs = torch.exp(log_ps)\n",
    "        _, top_class = probs.topk(1, dim=1)\n",
    "        equals = top_class == labels.view(*top_class.shape)\n",
    "        train_acc += torch.mean(equals.type(torch.FloatTensor))\n",
    "        \n",
    "    else:\n",
    "        # print stats\n",
    "        print(f'Epoch: {epoch}/{n_epochs} | Training loss: {running_train_loss/len(train_loader):.3f} | '\n",
    "              f'Accuracy: {train_acc/len(train_loader)*100:.3f}')"
   ]
  },
  {
   "cell_type": "code",
   "execution_count": null,
   "metadata": {},
   "outputs": [],
   "source": []
  }
 ],
 "metadata": {
  "kernelspec": {
   "display_name": "Python 3",
   "language": "python",
   "name": "python3"
  },
  "language_info": {
   "codemirror_mode": {
    "name": "ipython",
    "version": 3
   },
   "file_extension": ".py",
   "mimetype": "text/x-python",
   "name": "python",
   "nbconvert_exporter": "python",
   "pygments_lexer": "ipython3",
   "version": "3.7.4"
  }
 },
 "nbformat": 4,
 "nbformat_minor": 4
}
